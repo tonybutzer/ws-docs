{
 "cells": [
  {
   "cell_type": "code",
   "execution_count": 3,
   "id": "c34502d6",
   "metadata": {},
   "outputs": [
    {
     "name": "stdout",
     "output_type": "stream",
     "text": [
      "docker run\\\n",
      "\t-v `pwd`:/home \\\n",
      "           \ttbutzer/sphinx sphinx-build source build/html\n",
      "Running Sphinx v2.2.0\n",
      "WARNING: html_static_path entry '_static' does not exist\n",
      "loading pickled environment... done\n",
      "building [mo]: targets for 0 po files that are out of date\n",
      "building [html]: targets for 0 source files that are out of date\n",
      "updating environment: [config changed ('source_parsers')] 5 added, 0 changed, 0 removed\n",
      "reading sources... [ 20%] 03_Steffi_Notes\n",
      "reading sources... [ 40%] 10_right_now\n",
      "reading sources... [ 60%] 20_process_overview\n",
      "reading sources... [ 80%] 90_tallgrass\n",
      "reading sources... [100%] index\n",
      "\n",
      "looking for now-outdated files... none found\n",
      "pickling environment... done\n",
      "checking consistency... done\n",
      "preparing documents... done\n",
      "writing output... [ 20%] 03_Steffi_Notes\n",
      "writing output... [ 40%] 10_right_now\n",
      "writing output... [ 60%] 20_process_overview\n",
      "writing output... [ 80%] 90_tallgrass\n",
      "writing output... [100%] index\n",
      "\n",
      "generating indices...  genindexdone\n",
      "writing additional pages...  searchdone\n",
      "copying static files... ... done\n",
      "copying extra files... done\n",
      "dumping search index in English (code: en)... done\n",
      "dumping object inventory... done\n",
      "build succeeded, 1 warning.\n",
      "\n",
      "The HTML pages are in build/html.\n",
      "/usr/local/lib/python3.8/site-packages/sphinx/util/compat.py:30: RemovedInSphinx30Warning: The config variable \"source_parsers\" is deprecated. Please update your extension for the parser and remove the setting.\n",
      "  warnings.warn('The config variable \"source_parsers\" is deprecated. '\n",
      "/usr/local/lib/python3.8/site-packages/sphinx/util/compat.py:36: RemovedInSphinx30Warning: app.add_source_parser() does not support suffix argument. Use app.add_source_suffix() instead.\n",
      "  app.add_source_parser(suffix, parser)\n",
      "/usr/local/lib/python3.8/site-packages/recommonmark/parser.py:75: UserWarning: Container node skipped: type=document\n",
      "  warn(\"Container node skipped: type={0}\".format(mdnode.t))\n",
      "/usr/local/lib/python3.8/site-packages/sphinx_rtd_theme/search.html:20: RemovedInSphinx30Warning: To modify script_files in the theme is deprecated. Please insert a <script> tag directly in your theme instead.\n",
      "  {{ super() }}\n",
      "cp -r build/html/* ../docs\n"
     ]
    }
   ],
   "source": [
    "# run this cell to build\n",
    "! (cd ..; make html)"
   ]
  },
  {
   "cell_type": "markdown",
   "id": "dcc9937c",
   "metadata": {},
   "source": [
    "# To Publish Start a Terminal and do make publish\n",
    "\n",
    "- cat ~/token.txt\n",
    "- use token for password"
   ]
  },
  {
   "cell_type": "code",
   "execution_count": null,
   "id": "7321df50",
   "metadata": {},
   "outputs": [],
   "source": []
  }
 ],
 "metadata": {
  "kernelspec": {
   "display_name": "Python 3 (ipykernel)",
   "language": "python",
   "name": "python3"
  },
  "language_info": {
   "codemirror_mode": {
    "name": "ipython",
    "version": 3
   },
   "file_extension": ".py",
   "mimetype": "text/x-python",
   "name": "python",
   "nbconvert_exporter": "python",
   "pygments_lexer": "ipython3",
   "version": "3.9.9"
  }
 },
 "nbformat": 4,
 "nbformat_minor": 5
}
